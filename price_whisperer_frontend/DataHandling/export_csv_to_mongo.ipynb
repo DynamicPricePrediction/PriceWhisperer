{
 "cells": [
  {
   "cell_type": "code",
   "execution_count": 1,
   "id": "initial_id",
   "metadata": {
    "collapsed": true,
    "ExecuteTime": {
     "end_time": "2024-05-02T16:47:00.701836Z",
     "start_time": "2024-05-02T16:47:00.657157Z"
    }
   },
   "outputs": [],
   "source": [
    "import csv\n",
    "from pymongo import MongoClient"
   ]
  },
  {
   "cell_type": "code",
   "execution_count": null,
   "outputs": [],
   "source": [
    "mongoClient = MongoClient()\n",
    "db = mongoClient"
   ],
   "metadata": {
    "collapsed": false
   },
   "id": "2bbf0de4aa2a6ba"
  }
 ],
 "metadata": {
  "kernelspec": {
   "display_name": "Python 3",
   "language": "python",
   "name": "python3"
  },
  "language_info": {
   "codemirror_mode": {
    "name": "ipython",
    "version": 2
   },
   "file_extension": ".py",
   "mimetype": "text/x-python",
   "name": "python",
   "nbconvert_exporter": "python",
   "pygments_lexer": "ipython2",
   "version": "2.7.6"
  }
 },
 "nbformat": 4,
 "nbformat_minor": 5
}
